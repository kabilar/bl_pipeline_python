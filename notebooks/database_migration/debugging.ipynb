{
 "cells": [
  {
   "cell_type": "code",
   "execution_count": 12,
   "metadata": {},
   "outputs": [],
   "source": [
    "import os\n",
    "\n",
    "os.chdir('/home/pu.win.princeton.edu/kg7524/bl_pipeline_python')\n",
    "\n"
   ]
  },
  {
   "cell_type": "code",
   "execution_count": 1,
   "metadata": {},
   "outputs": [
    {
     "output_type": "execute_result",
     "data": {
      "text/plain": [
       "'/home/pu.win.princeton.edu/kg7524/bl_pipeline_python/notebooks'"
      ]
     },
     "metadata": {},
     "execution_count": 1
    }
   ],
   "source": [
    "pwd"
   ]
  },
  {
   "cell_type": "code",
   "execution_count": 14,
   "metadata": {},
   "outputs": [
    {
     "output_type": "stream",
     "name": "stdout",
     "text": [
      "Connecting kg7524@datajoint01.pni.princeton.edu:3306\n"
     ]
    }
   ],
   "source": [
    "from bl_pipeline.process.process import *\n"
   ]
  },
  {
   "cell_type": "code",
   "execution_count": 15,
   "metadata": {},
   "outputs": [],
   "source": [
    "ratinfo = dj.create_virtual_module('ratinfo', 'bl_ratinfo')"
   ]
  },
  {
   "cell_type": "code",
   "execution_count": 16,
   "metadata": {},
   "outputs": [],
   "source": [
    "diff = action_shadow.Mass - ratinfo.Mass.proj()"
   ]
  },
  {
   "cell_type": "code",
   "execution_count": 21,
   "metadata": {},
   "outputs": [
    {
     "output_type": "execute_result",
     "data": {
      "text/plain": [
       "*mass_id    ratname     weigh_person   weighing_datet mass    \n",
       "+---------+ +---------+ +------------+ +------------+ +------+\n",
       "\n",
       " (Total: 0)"
      ],
      "text/html": "\n        \n        <style type=\"text/css\">\n            .Relation{\n                border-collapse:collapse;\n            }\n            .Relation th{\n                background: #A0A0A0; color: #ffffff; padding:4px; border:#f0e0e0 1px solid;\n                font-weight: normal; font-family: monospace; font-size: 100%;\n            }\n            .Relation td{\n                padding:4px; border:#f0e0e0 1px solid; font-size:100%;\n            }\n            .Relation tr:nth-child(odd){\n                background: #ffffff;\n            }\n            .Relation tr:nth-child(even){\n                background: #f3f1ff;\n            }\n            /* Tooltip container */\n            .djtooltip {\n            }\n            /* Tooltip text */\n            .djtooltip .djtooltiptext {\n                visibility: hidden;\n                width: 120px;\n                background-color: black;\n                color: #fff;\n                text-align: center;\n                padding: 5px 0;\n                border-radius: 6px;\n                /* Position the tooltip text - see examples below! */\n                position: absolute;\n                z-index: 1;\n            }\n            #primary {\n                font-weight: bold;\n                color: black;\n            }\n\n            #nonprimary {\n                font-weight: normal;\n                color: white;\n            }\n\n            /* Show the tooltip text when you mouse over the tooltip container */\n            .djtooltip:hover .djtooltiptext {\n                visibility: visible;\n            }\n        </style>\n        \n        <b></b>\n            <div style=\"max-height:1000px;max-width:1500px;overflow:auto;\">\n            <table border=\"1\" class=\"Relation\">\n                <thead> <tr style=\"text-align: right;\"> <th> <div class=\"djtooltip\">\n                                <p id=\"primary\">mass_id</p>\n                                <span class=\"djtooltiptext\"></span>\n                            </div></th><th><div class=\"djtooltip\">\n                                <p id=\"nonprimary\">ratname</p>\n                                <span class=\"djtooltiptext\"></span>\n                            </div></th><th><div class=\"djtooltip\">\n                                <p id=\"nonprimary\">weigh_person</p>\n                                <span class=\"djtooltiptext\">renamed tech (initials) with weigh_person</span>\n                            </div></th><th><div class=\"djtooltip\">\n                                <p id=\"nonprimary\">weighing_datetime</p>\n                                <span class=\"djtooltiptext\">substitute \"date\" and \"timeval\" with weighing_datetime</span>\n                            </div></th><th><div class=\"djtooltip\">\n                                <p id=\"nonprimary\">mass</p>\n                                <span class=\"djtooltiptext\"></span>\n                            </div> </th> </tr> </thead>\n                <tbody> <tr>  </tr> </tbody>\n            </table>\n            \n            <p>Total: 0</p></div>\n            "
     },
     "metadata": {},
     "execution_count": 21
    }
   ],
   "source": [
    "diff & ratinfo.Mass.proj()"
   ]
  },
  {
   "cell_type": "code",
   "execution_count": 20,
   "metadata": {},
   "outputs": [
    {
     "output_type": "execute_result",
     "data": {
      "text/plain": [
       "mass     *weighing    date           ratname     tech     timeval    \n",
       "+------+ +----------+ +------------+ +---------+ +------+ +---------+\n",
       "284      18           2008-09-07     S029        RF       0:00:00    \n",
       "302      19           2008-09-07     S018        RF       0:00:00    \n",
       "288      20           2008-09-07     S027        RF       0:00:00    \n",
       "310      21           2008-09-07     S030        RF       0:00:00    \n",
       "350      22           2008-09-07     S028        RF       0:00:00    \n",
       "228      23           2008-09-07     B019        RF       0:00:00    \n",
       "196      24           2008-09-07     A017        RF       0:00:00    \n",
       "216      25           2008-09-07     A021        RF       0:00:00    \n",
       "354      26           2008-09-07     B015        RF       0:00:00    \n",
       "300      27           2008-09-07     A013        RF       0:00:00    \n",
       "408      28           2008-09-07     B014        RF       0:00:00    \n",
       "212      29           2008-09-07     B030        RF       0:00:00    \n",
       "   ...\n",
       " (Total: 900378)"
      ],
      "text/html": "\n        \n        <style type=\"text/css\">\n            .Relation{\n                border-collapse:collapse;\n            }\n            .Relation th{\n                background: #A0A0A0; color: #ffffff; padding:4px; border:#f0e0e0 1px solid;\n                font-weight: normal; font-family: monospace; font-size: 100%;\n            }\n            .Relation td{\n                padding:4px; border:#f0e0e0 1px solid; font-size:100%;\n            }\n            .Relation tr:nth-child(odd){\n                background: #ffffff;\n            }\n            .Relation tr:nth-child(even){\n                background: #f3f1ff;\n            }\n            /* Tooltip container */\n            .djtooltip {\n            }\n            /* Tooltip text */\n            .djtooltip .djtooltiptext {\n                visibility: hidden;\n                width: 120px;\n                background-color: black;\n                color: #fff;\n                text-align: center;\n                padding: 5px 0;\n                border-radius: 6px;\n                /* Position the tooltip text - see examples below! */\n                position: absolute;\n                z-index: 1;\n            }\n            #primary {\n                font-weight: bold;\n                color: black;\n            }\n\n            #nonprimary {\n                font-weight: normal;\n                color: white;\n            }\n\n            /* Show the tooltip text when you mouse over the tooltip container */\n            .djtooltip:hover .djtooltiptext {\n                visibility: visible;\n            }\n        </style>\n        \n        <b>rat masses</b>\n            <div style=\"max-height:1000px;max-width:1500px;overflow:auto;\">\n            <table border=\"1\" class=\"Relation\">\n                <thead> <tr style=\"text-align: right;\"> <th> <div class=\"djtooltip\">\n                                <p id=\"nonprimary\">mass</p>\n                                <span class=\"djtooltiptext\"></span>\n                            </div></th><th><div class=\"djtooltip\">\n                                <p id=\"primary\">weighing</p>\n                                <span class=\"djtooltiptext\"></span>\n                            </div></th><th><div class=\"djtooltip\">\n                                <p id=\"nonprimary\">date</p>\n                                <span class=\"djtooltiptext\"></span>\n                            </div></th><th><div class=\"djtooltip\">\n                                <p id=\"nonprimary\">ratname</p>\n                                <span class=\"djtooltiptext\"></span>\n                            </div></th><th><div class=\"djtooltip\">\n                                <p id=\"nonprimary\">tech</p>\n                                <span class=\"djtooltiptext\"></span>\n                            </div></th><th><div class=\"djtooltip\">\n                                <p id=\"nonprimary\">timeval</p>\n                                <span class=\"djtooltiptext\"></span>\n                            </div> </th> </tr> </thead>\n                <tbody> <tr> <td>284</td>\n<td>18</td>\n<td>2008-09-07</td>\n<td>S029</td>\n<td>RF</td>\n<td>0:00:00</td></tr><tr><td>302</td>\n<td>19</td>\n<td>2008-09-07</td>\n<td>S018</td>\n<td>RF</td>\n<td>0:00:00</td></tr><tr><td>288</td>\n<td>20</td>\n<td>2008-09-07</td>\n<td>S027</td>\n<td>RF</td>\n<td>0:00:00</td></tr><tr><td>310</td>\n<td>21</td>\n<td>2008-09-07</td>\n<td>S030</td>\n<td>RF</td>\n<td>0:00:00</td></tr><tr><td>350</td>\n<td>22</td>\n<td>2008-09-07</td>\n<td>S028</td>\n<td>RF</td>\n<td>0:00:00</td></tr><tr><td>228</td>\n<td>23</td>\n<td>2008-09-07</td>\n<td>B019</td>\n<td>RF</td>\n<td>0:00:00</td></tr><tr><td>196</td>\n<td>24</td>\n<td>2008-09-07</td>\n<td>A017</td>\n<td>RF</td>\n<td>0:00:00</td></tr><tr><td>216</td>\n<td>25</td>\n<td>2008-09-07</td>\n<td>A021</td>\n<td>RF</td>\n<td>0:00:00</td></tr><tr><td>354</td>\n<td>26</td>\n<td>2008-09-07</td>\n<td>B015</td>\n<td>RF</td>\n<td>0:00:00</td></tr><tr><td>300</td>\n<td>27</td>\n<td>2008-09-07</td>\n<td>A013</td>\n<td>RF</td>\n<td>0:00:00</td></tr><tr><td>408</td>\n<td>28</td>\n<td>2008-09-07</td>\n<td>B014</td>\n<td>RF</td>\n<td>0:00:00</td></tr><tr><td>212</td>\n<td>29</td>\n<td>2008-09-07</td>\n<td>B030</td>\n<td>RF</td>\n<td>0:00:00</td> </tr> </tbody>\n            </table>\n            <p>...</p>\n            <p>Total: 900378</p></div>\n            "
     },
     "metadata": {},
     "execution_count": 20
    }
   ],
   "source": [
    "ratinfo.Mass()"
   ]
  },
  {
   "cell_type": "code",
   "execution_count": null,
   "metadata": {},
   "outputs": [],
   "source": []
  },
  {
   "cell_type": "code",
   "execution_count": 5,
   "metadata": {},
   "outputs": [],
   "source": [
    "diff = lab_shadow.RigMaintenance - lab.RigMaintenance.proj()"
   ]
  },
  {
   "cell_type": "code",
   "execution_count": null,
   "metadata": {},
   "outputs": [],
   "source": [
    "copy_table(lab, lab_shadow, 'RigMaintenance')"
   ]
  },
  {
   "cell_type": "code",
   "execution_count": 7,
   "metadata": {},
   "outputs": [
    {
     "data": {
      "text/html": [
       "\n",
       "        \n",
       "        <style type=\"text/css\">\n",
       "            .Relation{\n",
       "                border-collapse:collapse;\n",
       "            }\n",
       "            .Relation th{\n",
       "                background: #A0A0A0; color: #ffffff; padding:4px; border:#f0e0e0 1px solid;\n",
       "                font-weight: normal; font-family: monospace; font-size: 100%;\n",
       "            }\n",
       "            .Relation td{\n",
       "                padding:4px; border:#f0e0e0 1px solid; font-size:100%;\n",
       "            }\n",
       "            .Relation tr:nth-child(odd){\n",
       "                background: #ffffff;\n",
       "            }\n",
       "            .Relation tr:nth-child(even){\n",
       "                background: #f3f1ff;\n",
       "            }\n",
       "            /* Tooltip container */\n",
       "            .djtooltip {\n",
       "            }\n",
       "            /* Tooltip text */\n",
       "            .djtooltip .djtooltiptext {\n",
       "                visibility: hidden;\n",
       "                width: 120px;\n",
       "                background-color: black;\n",
       "                color: #fff;\n",
       "                text-align: center;\n",
       "                padding: 5px 0;\n",
       "                border-radius: 6px;\n",
       "                /* Position the tooltip text - see examples below! */\n",
       "                position: absolute;\n",
       "                z-index: 1;\n",
       "            }\n",
       "            #primary {\n",
       "                font-weight: bold;\n",
       "                color: black;\n",
       "            }\n",
       "\n",
       "            #nonprimary {\n",
       "                font-weight: normal;\n",
       "                color: white;\n",
       "            }\n",
       "\n",
       "            /* Show the tooltip text when you mouse over the tooltip container */\n",
       "            .djtooltip:hover .djtooltiptext {\n",
       "                visibility: visible;\n",
       "            }\n",
       "        </style>\n",
       "        \n",
       "        <b></b>\n",
       "            <div style=\"max-height:1000px;max-width:1500px;overflow:auto;\">\n",
       "            <table border=\"1\" class=\"Relation\">\n",
       "                <thead> <tr style=\"text-align: right;\"> <th> <div class=\"djtooltip\">\n",
       "                                <p id=\"primary\">rigid</p>\n",
       "                                <span class=\"djtooltiptext\"></span>\n",
       "                            </div></th><th><div class=\"djtooltip\">\n",
       "                                <p id=\"nonprimary\">ip_addr</p>\n",
       "                                <span class=\"djtooltiptext\"></span>\n",
       "                            </div></th><th><div class=\"djtooltip\">\n",
       "                                <p id=\"nonprimary\">mac_addr</p>\n",
       "                                <span class=\"djtooltiptext\"></span>\n",
       "                            </div></th><th><div class=\"djtooltip\">\n",
       "                                <p id=\"nonprimary\">rtfsm_ip</p>\n",
       "                                <span class=\"djtooltiptext\"></span>\n",
       "                            </div></th><th><div class=\"djtooltip\">\n",
       "                                <p id=\"nonprimary\">hostname</p>\n",
       "                                <span class=\"djtooltiptext\"></span>\n",
       "                            </div></th><th><div class=\"djtooltip\">\n",
       "                                <p id=\"nonprimary\">is_linux</p>\n",
       "                                <span class=\"djtooltiptext\"></span>\n",
       "                            </div></th><th><div class=\"djtooltip\">\n",
       "                                <p id=\"nonprimary\">video_server</p>\n",
       "                                <span class=\"djtooltiptext\"></span>\n",
       "                            </div></th><th><div class=\"djtooltip\">\n",
       "                                <p id=\"nonprimary\">comptype</p>\n",
       "                                <span class=\"djtooltiptext\"></span>\n",
       "                            </div> </th> </tr> </thead>\n",
       "                <tbody> <tr> <td>1</td>\n",
       "<td>128.112.221.170</td>\n",
       "<td>0001C027C698</td>\n",
       "<td>128.112.221.162</td>\n",
       "<td>brodyrigwt01.princeton.edu</td>\n",
       "<td>0</td>\n",
       "<td>video01</td>\n",
       "<td>PCWIN64 Microsoft Windows 10 Enterprise</td></tr><tr><td>2</td>\n",
       "<td>128.112.223.186</td>\n",
       "<td>0001C027C679</td>\n",
       "<td>brodyrt13.princ</td>\n",
       "<td>brodyrigwt02.princeton.edu</td>\n",
       "<td>0</td>\n",
       "<td>video01</td>\n",
       "<td>PCWIN64 Microsoft Windows 10 Enterprise</td></tr><tr><td>3</td>\n",
       "<td>128.112.223.191</td>\n",
       "<td>0001C02777FE</td>\n",
       "<td>brodyrt13.princ</td>\n",
       "<td>brodyrigwt03.princeton.edu</td>\n",
       "<td>0</td>\n",
       "<td>video01</td>\n",
       "<td>PCWIN64 Microsoft Windows 10 Enterprise</td></tr><tr><td>4</td>\n",
       "<td>128.112.218.202</td>\n",
       "<td>0001C02696B8</td>\n",
       "<td>localhost</td>\n",
       "<td>brodyrigwt04.princeton.edu</td>\n",
       "<td>0</td>\n",
       "<td></td>\n",
       "<td>PCWIN64 Microsoft Windows 10 Enterprise</td></tr><tr><td>6</td>\n",
       "<td>128.112.223.192</td>\n",
       "<td>0001C027AA2A</td>\n",
       "<td>128.112.221.162</td>\n",
       "<td>brodyrigwt06.princeton.edu</td>\n",
       "<td>0</td>\n",
       "<td>video01</td>\n",
       "<td>PCWIN64 Microsoft Windows 10 Enterprise</td></tr><tr><td>7</td>\n",
       "<td>128.112.223.193</td>\n",
       "<td>0000000000</td>\n",
       "<td>128.112.218.111</td>\n",
       "<td>unknown</td>\n",
       "<td>0</td>\n",
       "<td>video02</td>\n",
       "<td>PCWIN64 Microsoft Windows 10 Enterprise</td></tr><tr><td>9</td>\n",
       "<td>128.112.223.195</td>\n",
       "<td>0001C027AA7E</td>\n",
       "<td>128.112.218.111</td>\n",
       "<td>brodyrigwt09.princeton.edu</td>\n",
       "<td>0</td>\n",
       "<td>video02</td>\n",
       "<td>PCWIN64 Microsoft Windows 10 Enterprise</td></tr><tr><td>10</td>\n",
       "<td>128.112.223.196</td>\n",
       "<td>0001C027C6CC</td>\n",
       "<td>128.112.218.95</td>\n",
       "<td>brodyrigwt10.princeton.edu</td>\n",
       "<td>0</td>\n",
       "<td>video02</td>\n",
       "<td>PCWIN64 Microsoft Windows 10 Enterprise</td></tr><tr><td>11</td>\n",
       "<td>128.112.223.148</td>\n",
       "<td>0001C027C71A</td>\n",
       "<td>128.112.218.95</td>\n",
       "<td>brodyrigwt11.princeton.edu</td>\n",
       "<td>0</td>\n",
       "<td>video02</td>\n",
       "<td>PCWIN64 Microsoft Windows 10 Enterprise</td></tr><tr><td>13</td>\n",
       "<td>128.112.223.198</td>\n",
       "<td>0001C027C688</td>\n",
       "<td>brodyrt22.princ</td>\n",
       "<td>brodyrigwt13.princeton.edu</td>\n",
       "<td>0</td>\n",
       "<td>video02</td>\n",
       "<td>PCWIN64 Microsoft Windows 10 Enterprise</td></tr><tr><td>14</td>\n",
       "<td>128.112.223.199</td>\n",
       "<td>0001C027AA6E</td>\n",
       "<td>brodyrt22.princ</td>\n",
       "<td>brodyrigwt14.princeton.edu</td>\n",
       "<td>0</td>\n",
       "<td>video02</td>\n",
       "<td>PCWIN64 Microsoft Windows 10 Enterprise</td></tr><tr><td>15</td>\n",
       "<td>128.112.223.200</td>\n",
       "<td>0001C027612F</td>\n",
       "<td>brodyrt22.princ</td>\n",
       "<td>brodyrigwt15.princeton.edu</td>\n",
       "<td>0</td>\n",
       "<td>video03</td>\n",
       "<td>PCWIN64 Microsoft Windows 10 Enterprise</td> </tr> </tbody>\n",
       "            </table>\n",
       "            <p>...</p>\n",
       "            <p>Total: 29</p></div>\n",
       "            "
      ],
      "text/plain": [
       "*rigid    ip_addr        mac_addr       rtfsm_ip       hostname       is_linux     video_server   comptype      \n",
       "+-------+ +------------+ +------------+ +------------+ +------------+ +----------+ +------------+ +------------+\n",
       "1         128.112.221.17 0001C027C698   128.112.221.16 brodyrigwt01.p 0            video01        PCWIN64 Micros\n",
       "2         128.112.223.18 0001C027C679   brodyrt13.prin brodyrigwt02.p 0            video01        PCWIN64 Micros\n",
       "3         128.112.223.19 0001C02777FE   brodyrt13.prin brodyrigwt03.p 0            video01        PCWIN64 Micros\n",
       "4         128.112.218.20 0001C02696B8   localhost      brodyrigwt04.p 0                           PCWIN64 Micros\n",
       "6         128.112.223.19 0001C027AA2A   128.112.221.16 brodyrigwt06.p 0            video01        PCWIN64 Micros\n",
       "7         128.112.223.19 0000000000     128.112.218.11 unknown        0            video02        PCWIN64 Micros\n",
       "9         128.112.223.19 0001C027AA7E   128.112.218.11 brodyrigwt09.p 0            video02        PCWIN64 Micros\n",
       "10        128.112.223.19 0001C027C6CC   128.112.218.95 brodyrigwt10.p 0            video02        PCWIN64 Micros\n",
       "11        128.112.223.14 0001C027C71A   128.112.218.95 brodyrigwt11.p 0            video02        PCWIN64 Micros\n",
       "13        128.112.223.19 0001C027C688   brodyrt22.prin brodyrigwt13.p 0            video02        PCWIN64 Micros\n",
       "14        128.112.223.19 0001C027AA6E   brodyrt22.prin brodyrigwt14.p 0            video02        PCWIN64 Micros\n",
       "15        128.112.223.20 0001C027612F   brodyrt22.prin brodyrigwt15.p 0            video03        PCWIN64 Micros\n",
       "   ...\n",
       " (Total: 29)"
      ]
     },
     "execution_count": 7,
     "metadata": {},
     "output_type": "execute_result"
    }
   ],
   "source": [
    "ratinfo.Riginfo & (dj.U('rigid') & diff)"
   ]
  },
  {
   "cell_type": "code",
   "execution_count": null,
   "metadata": {},
   "outputs": [],
   "source": []
  }
 ],
 "metadata": {
  "kernelspec": {
   "display_name": "Python 3.7.0 64-bit",
   "name": "python37064bitf2151f2206f144f48c34f05279b5bf80"
  },
  "language_info": {
   "codemirror_mode": {
    "name": "ipython",
    "version": 3
   },
   "file_extension": ".py",
   "mimetype": "text/x-python",
   "name": "python",
   "nbconvert_exporter": "python",
   "pygments_lexer": "ipython3",
   "version": "3.7.0-final"
  },
  "orig_nbformat": 2
 },
 "nbformat": 4,
 "nbformat_minor": 2
}
