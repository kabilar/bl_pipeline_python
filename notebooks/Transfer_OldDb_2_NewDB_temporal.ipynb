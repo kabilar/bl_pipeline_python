{
 "cells": [
  {
   "cell_type": "code",
   "execution_count": 1,
   "id": "1d032712",
   "metadata": {},
   "outputs": [
    {
     "name": "stdout",
     "output_type": "stream",
     "text": [
      "Local configuration file found !!, no need to run the configuration (unless configuration has changed)\n"
     ]
    }
   ],
   "source": [
    "from scripts.conf_file_finding import try_find_conf_file\n",
    "try_find_conf_file()"
   ]
  },
  {
   "cell_type": "code",
   "execution_count": 2,
   "id": "0b031310",
   "metadata": {},
   "outputs": [],
   "source": [
    "import pymysql as client\n",
    "import pymysql.cursors\n",
    "import pandas as pd\n",
    "import datajoint as dj\n",
    "import datetime\n",
    "import sys\n",
    "import numpy as np\n",
    "import json"
   ]
  },
  {
   "cell_type": "code",
   "execution_count": null,
   "id": "a8a8887f",
   "metadata": {},
   "outputs": [],
   "source": [
    "date_ref = datetime.date.today()\n",
    "date_ref = date_ref - datetime. timedelta(500)\n",
    "date_ref = date_ref.strftime(\"%Y-%m-%d\")\n",
    "date_ref"
   ]
  },
  {
   "cell_type": "markdown",
   "id": "700bff72",
   "metadata": {},
   "source": [
    "### Special parameters, date columns and big tables with no date field"
   ]
  },
  {
   "cell_type": "code",
   "execution_count": null,
   "id": "b51819c6",
   "metadata": {},
   "outputs": [],
   "source": [
    "nodate_tables = ['sess_list', 'parsed_events']\n",
    "\n",
    "noneed_copy = ['surgery', 'technotes']\n",
    "noneed_copy = []\n",
    "\n",
    "\n",
    "dict_dates_big_tables = {\n",
    "    'technotes': 'datestr',\n",
    "    'tech_schedule': 'date',\n",
    "    'surgery': 'date',\n",
    "    'rigwater':  'dateval',\n",
    "    'sess_started': 'sessiondate',\n",
    "    'mass': 'date',\n",
    "    'water': 'date',\n",
    "    'schedule': 'date',\n",
    "    'sessions': 'sessiondate'\n",
    "}\n",
    "time2_str_dict = {\n",
    "    'rigtrials': ['lastupdate'],\n",
    "    'technotes': ['timestr'],\n",
    "    'mass': ['timeval'],\n",
    "    'water': ['starttime', 'stoptime'],\n",
    "    'sessions': ['starttime', 'endtime'],\n",
    "    'sess_started': ['starttime']\n",
    "}\n",
    "date2_str_dict = {\n",
    "    'rats': ['dateSac', 'deliverydate'],\n",
    "    'rat_history': ['dateSac'],   \n",
    "    'rigvideo': ['dateval'],\n",
    "}\n",
    "datetime2_str_dict = {\n",
    "    'rig_maintenance': ['broke_date', 'fix_date'],\n",
    "    'calibration_info_tbl': ['dateval']\n",
    "}\n"
   ]
  },
  {
   "cell_type": "code",
   "execution_count": null,
   "id": "49b17ecc",
   "metadata": {},
   "outputs": [],
   "source": [
    "def convert_time_2_str(df_column):\n",
    "    \n",
    "    df_column = df_column.astype(str)\n",
    "    df_column = df_column.str.slice(start=-8)\n",
    "\n",
    "    df_column.loc[df_column == 'NaT'] = None\n",
    "    return df_column\n",
    "    \n",
    "    "
   ]
  },
  {
   "cell_type": "code",
   "execution_count": null,
   "id": "e66e971d",
   "metadata": {},
   "outputs": [],
   "source": [
    "def convert_dates_2_str(df_column):\n",
    "    \n",
    "    df_column = df_column.astype(str)\n",
    "    df_column.loc[df_column == \"0000-00-00\"] = None\n",
    "    df_column.loc[df_column == \"None\"] = None\n",
    "    \n",
    "    return df_column"
   ]
  },
  {
   "cell_type": "code",
   "execution_count": null,
   "id": "f0b0c00c",
   "metadata": {},
   "outputs": [],
   "source": [
    "def convert_datetimes_2_str(df_column):\n",
    "    \n",
    "    df_column = df_column.astype(str)\n",
    "    df_column.loc[df_column == \"0000-00-00 00:00:00\"] = \"1000-01-01 00:00:00\"\n",
    "    \n",
    "    return df_column"
   ]
  },
  {
   "cell_type": "markdown",
   "id": "b208c825",
   "metadata": {},
   "source": [
    "### Connect to datajoint DB and create virtual modules"
   ]
  },
  {
   "cell_type": "code",
   "execution_count": null,
   "id": "0f17962a",
   "metadata": {},
   "outputs": [],
   "source": [
    "conn1 = dj.conn()\n",
    "bdatatest = dj.create_virtual_module('bdatatest', 'bdatatest')\n",
    "ratinfotest = dj.create_virtual_module('ratinfotest','ratinfotest')\n",
    "\n",
    "subject_shadow = dj.create_virtual_module('bl_shadow_subject', 'bl_shadow_subject')\n"
   ]
  },
  {
   "cell_type": "code",
   "execution_count": null,
   "id": "a92893da",
   "metadata": {},
   "outputs": [],
   "source": [
    "ro = subject_shadow.Rats()\n",
    "ro.parents()"
   ]
  },
  {
   "cell_type": "code",
   "execution_count": null,
   "id": "92fea1e0",
   "metadata": {},
   "outputs": [],
   "source": [
    "dj.ERD(subject_shadow) -1"
   ]
  },
  {
   "cell_type": "code",
   "execution_count": null,
   "id": "a20bbd17",
   "metadata": {},
   "outputs": [],
   "source": [
    "subject_shadow.Rats().populate()"
   ]
  },
  {
   "cell_type": "markdown",
   "id": "26d69459",
   "metadata": {},
   "source": [
    "### Connect to pni-brodylabvm DB and get list of tables"
   ]
  },
  {
   "cell_type": "code",
   "execution_count": null,
   "id": "2f82ac6f",
   "metadata": {},
   "outputs": [],
   "source": [
    "db_params_file = open('brodylab_db_conf.json','r')\n",
    "db_params = db_params_file.read()\n",
    "db_params = json.loads(db_params)\n",
    "\n",
    "\n",
    "con=client.connect(host=db_params['host'],user=db_params['user'],password=db_params['password'], cursorclass=pymysql.cursors.DictCursor)\n",
    "with con.cursor() as cur:\n",
    "    sql = \"\"\"SELECT TABLE_SCHEMA, TABLE_NAME, UPDATE_TIME, \n",
    "    ROUND((DATA_LENGTH + INDEX_LENGTH) / 1024 / 1024) AS `Size_MB`\n",
    "    FROM   information_schema.tables\n",
    "    where TABLE_SCHEMA = 'bdata' or TABLE_SCHEMA = 'ratinfo'\"\"\"\n",
    "    cur.execute(sql)\n",
    "    tables_db = pd.DataFrame(cur.fetchall())\n",
    "tables_db.head()    "
   ]
  },
  {
   "cell_type": "markdown",
   "id": "0566bd3b",
   "metadata": {},
   "source": [
    "### Only copy data from tables that have been updated this year"
   ]
  },
  {
   "cell_type": "code",
   "execution_count": null,
   "id": "be8ce2a0",
   "metadata": {},
   "outputs": [],
   "source": [
    "tables_db_copy = tables_db.loc[tables_db['UPDATE_TIME'] > datetime.datetime(2021,1,1), :]"
   ]
  },
  {
   "cell_type": "markdown",
   "id": "1e704f8e",
   "metadata": {},
   "source": [
    "### Three groups:"
   ]
  },
  {
   "cell_type": "markdown",
   "id": "d666f1fd",
   "metadata": {},
   "source": [
    "#### 1. smalltables (copy all)\n",
    "#### 2. Tables with date field (copy from selected date)\n",
    "#### 3. Tables with no date (get sessid to copy from) "
   ]
  },
  {
   "cell_type": "code",
   "execution_count": null,
   "id": "25deeb13",
   "metadata": {},
   "outputs": [],
   "source": [
    "tables_db_copy = tables_db_copy.sort_values(by='Size_MB')\n",
    "tables_db_copy = tables_db_copy.reset_index(drop=True)\n",
    "# sessidlist and parsed events\n",
    "tables_nodate_copy = tables_db_copy.loc[tables_db_copy['TABLE_NAME'].isin(nodate_tables), :]\n",
    "tables_nodate_copy = tables_nodate_copy.reset_index(drop=True)\n",
    "#rest of tables to copy\n",
    "tables_db_copy2 = tables_db_copy.loc[~tables_db_copy['TABLE_NAME'].isin(nodate_tables), :]\n",
    "tables_db_copy2 = tables_db_copy2.loc[~tables_db_copy2['TABLE_NAME'].isin(noneed_copy), :]\n",
    "tables_db_copy2 = tables_db_copy2.reset_index(drop=True)\n",
    "\n",
    "tables_db_copy2 = tables_db_copy2.reset_index(drop=True)\n",
    "tables_db_copy2"
   ]
  },
  {
   "cell_type": "code",
   "execution_count": null,
   "id": "1a97c001",
   "metadata": {},
   "outputs": [],
   "source": [
    "sql = 'SELECT * from ratinfo.rats where internalID = \"V011\"'\n",
    "with con.cursor() as cur:\n",
    "    cur.execute(sql)\n",
    "    data_insert = pd.DataFrame(cur.fetchall())\n",
    "data_insert"
   ]
  },
  {
   "cell_type": "markdown",
   "id": "02dbb392",
   "metadata": {},
   "source": [
    "## Fetch from brodylabvm and insert on datajoint01 (group 1 and 2)"
   ]
  },
  {
   "cell_type": "code",
   "execution_count": null,
   "id": "2ea9a837",
   "metadata": {},
   "outputs": [],
   "source": [
    "for i in range(tables_db_copy2.shape[0]):\n",
    "    print(i)  \n",
    "    sql = \"SELECT * from \" + tables_db_copy2.loc[i, 'TABLE_SCHEMA'] + \".\" + tables_db_copy2.loc[i, 'TABLE_NAME'] +  \" \"\n",
    "    \n",
    "    #Insert where > date from big tables\n",
    "    if tables_db_copy2.loc[i, 'TABLE_NAME'] in (list(dict_dates_big_tables.keys())):   \n",
    "        sql += ' WHERE '  + dict_dates_big_tables[tables_db_copy2.loc[i, 'TABLE_NAME']] + ' > \"' + date_ref + '\"' \n",
    "    #print(sql)\n",
    "    \n",
    "    #Fetch data\n",
    "    with con.cursor() as cur:\n",
    "        cur.execute(sql)\n",
    "        data_insert = pd.DataFrame(cur.fetchall())\n",
    "\n",
    "    if data_insert.shape[0] > 0:\n",
    "        \n",
    "        #Get min session for tables that dont have date\n",
    "        if tables_db_copy2.loc[i, 'TABLE_NAME'] == \"sess_started\":\n",
    "            min_session = data_insert['sessid'].min()\n",
    "            max_session = data_insert['sessid'].max()\n",
    "\n",
    "        #Convert time columns\n",
    "        if tables_db_copy2.loc[i, 'TABLE_NAME'] in (list(time2_str_dict.keys())):\n",
    "            list_times = time2_str_dict[tables_db_copy2.loc[i, 'TABLE_NAME']]\n",
    "            for j in list_times:\n",
    "                data_insert[j] = convert_time_2_str(data_insert[j])    \n",
    "        \n",
    "        #Convert date columns\n",
    "        if tables_db_copy2.loc[i, 'TABLE_NAME'] in (list(date2_str_dict.keys())):\n",
    "            list_dates = date2_str_dict[tables_db_copy2.loc[i, 'TABLE_NAME']]\n",
    "            for j in list_dates:\n",
    "                data_insert[j] = convert_dates_2_str(data_insert[j])\n",
    "                \n",
    "        #Convert datetime columns\n",
    "        if tables_db_copy2.loc[i, 'TABLE_NAME'] in (list(datetime2_str_dict.keys())):\n",
    "            list_dates = datetime2_str_dict[tables_db_copy2.loc[i, 'TABLE_NAME']]\n",
    "            for j in list_dates:\n",
    "                data_insert[j] = convert_datetimes_2_str(data_insert[j])\n",
    "        \n",
    "        #Get table to insert from datajoint table\n",
    "        schema_class= getattr(sys.modules[__name__], tables_db_copy2.loc[i, 'TABLE_SCHEMA']+\"test\")\n",
    "        table_class = getattr(schema_class, dj.utils.to_camel_case(tables_db_copy2.loc[i, 'TABLE_NAME']))\n",
    "        table_instance = table_class()\n",
    "        \n",
    "        \n",
    "        #if tables_db_copy2.loc[i, 'TABLE_NAME'] == \"xxx\":\n",
    "        #    break\n",
    "        table_instance.insert(data_insert, skip_duplicates=True)\n",
    "                                                "
   ]
  },
  {
   "cell_type": "markdown",
   "id": "08b2d241",
   "metadata": {},
   "source": [
    "## Fetch from brodylabvm and insert on datajoint01 (group 3)"
   ]
  },
  {
   "cell_type": "code",
   "execution_count": null,
   "id": "baaceb28",
   "metadata": {},
   "outputs": [],
   "source": [
    "for i in range(tables_nodate_copy.shape[0]):\n",
    "     sql = \"SELECT * from \" + tables_nodate_copy.loc[i, 'TABLE_SCHEMA'] + \".\" + tables_nodate_copy.loc[i, 'TABLE_NAME'] +  \" \"\n",
    "     schema_class= getattr(sys.modules[__name__], tables_nodate_copy.loc[i, 'TABLE_SCHEMA']+\"test\")\n",
    "     table_class = getattr(schema_class, dj.utils.to_camel_case(tables_nodate_copy.loc[i, 'TABLE_NAME']))\n",
    "     table_instance = table_class()\n",
    "     sess_array = np.arange(min_session,max_session+1000,1000)\n",
    "     for j in range(sess_array.shape[0]-1):\n",
    "        sql2 = sql +' WHERE sessid >= ' + str(sess_array[j]) + \" AND sessid < \" + str(sess_array[j+1])\n",
    "    \n",
    "        print(sql2)\n",
    "        with con.cursor() as cur:\n",
    "            cur.execute(sql2)\n",
    "            data_insert = pd.DataFrame(cur.fetchall())\n",
    "        \n",
    "\n",
    "        table_instance.insert(data_insert, skip_duplicates=True)\n",
    "    \n",
    "    "
   ]
  },
  {
   "cell_type": "code",
   "execution_count": null,
   "id": "340c2d5c",
   "metadata": {},
   "outputs": [],
   "source": [
    "dj.ERD(subject_shadow.Rats)-1"
   ]
  },
  {
   "cell_type": "code",
   "execution_count": null,
   "id": "990d4ae7",
   "metadata": {},
   "outputs": [],
   "source": [
    "subject_shadow.Rats.describe()"
   ]
  },
  {
   "cell_type": "code",
   "execution_count": null,
   "id": "286e01a0",
   "metadata": {},
   "outputs": [],
   "source": [
    "subject_shadow.Rats.populate()"
   ]
  },
  {
   "cell_type": "code",
   "execution_count": null,
   "id": "e659496f",
   "metadata": {},
   "outputs": [],
   "source": [
    "dj.__version__"
   ]
  },
  {
   "cell_type": "code",
   "execution_count": 5,
   "id": "71171d73",
   "metadata": {},
   "outputs": [],
   "source": [
    "import bl_pipeline.datajoint01_pipeline.shadow.acquisition as shadow_acq\n",
    "import bl_pipeline.datajoint01_pipeline.shadow.subject as shadow_sub\n",
    "\n",
    "#subject_shadow = bl_pipeline"
   ]
  },
  {
   "cell_type": "code",
   "execution_count": 7,
   "id": "22e2e8ca",
   "metadata": {},
   "outputs": [
    {
     "name": "stdout",
     "output_type": "stream",
     "text": [
      "\n",
      "\n",
      "\n",
      "AnimalFacility\n",
      "AnimalFacility\n",
      "Elyssa\n",
      "experimenter\n",
      "Alex\n",
      "Alex\n",
      "Jovanna/Min\n"
     ]
    }
   ],
   "source": [
    "shadow_sub.Rats().populate()"
   ]
  },
  {
   "cell_type": "code",
   "execution_count": null,
   "id": "00cd1ff3",
   "metadata": {},
   "outputs": [],
   "source": []
  }
 ],
 "metadata": {
  "kernelspec": {
   "display_name": "Python 3 (ipykernel)",
   "language": "python",
   "name": "python3"
  },
  "language_info": {
   "codemirror_mode": {
    "name": "ipython",
    "version": 3
   },
   "file_extension": ".py",
   "mimetype": "text/x-python",
   "name": "python",
   "nbconvert_exporter": "python",
   "pygments_lexer": "ipython3",
   "version": "3.7.11"
  }
 },
 "nbformat": 4,
 "nbformat_minor": 5
}
